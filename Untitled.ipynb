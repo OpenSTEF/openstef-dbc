{
 "cells": [
  {
   "cell_type": "code",
   "execution_count": 1,
   "id": "07c0d145",
   "metadata": {},
   "outputs": [],
   "source": [
    "\"\"\"App and API settings.\"\"\"\n",
    "import os\n",
    "from typing import Union\n",
    "\n",
    "from pydantic import BaseSettings, Field\n",
    "\n",
    "\n",
    "class AppSettings(BaseSettings):\n",
    "    \"\"\"Global app and API settings.\n",
    "\n",
    "    Define your default values here.\n",
    "    Values can be overriden by ENV variables with the same name (case-insensitive).\n",
    "\n",
    "    If you want all ENV variables to have a certain prefix and still be parsed into\n",
    "    these AppSettings, you can set the `env_prefix` variable below.\n",
    "\n",
    "    For example: if `env_prefix = \"KTP_\"`,\n",
    "    then the env variable `KTP_LOG_LEVEL` will be parsed to `AppSettings.log_level`.\n",
    "\n",
    "    Check the docs for more information: https://pydantic-docs.helpmanual.io/usage/settings/\n",
    "\n",
    "    In the code, you can access these variables like this:\n",
    "        >>> from app.core.settings import Settings\n",
    "        >>> print(Settings.app_name)\n",
    "        template-kubernetes-fastapi\n",
    "    \"\"\"\n",
    "\n",
    "    # DEPLOYMENT and ENVIRONMENT Settings\n",
    "    loglevel: str = \"INFO\"\n",
    "\n",
    "    class Config:\n",
    "        # Set a prefix to all ENV variables.\n",
    "        env_prefix = \"\"\n",
    "        env_file = \".env\"  # .env file should be at base of repo\n",
    "\n",
    "    # Config map\n",
    "    teams_alert_url: str = Field(\n",
    "        os.environ.get(\"KTP_TEAMS_ALERT_URL\"), description=\"Teams alert url.\"\n",
    "    )\n",
    "    teams_monitoring_url: str = Field(\n",
    "        os.environ.get(\"KTP_TEAMS_MONITORING_URL\"), description=\"Teams monitoring url.\"\n",
    "    )\n",
    "\n",
    "    apx_host: str = Field(\"\", description=\"APX host.\")\n",
    "    apx_port: str = Field(\"22\", description=\"APX port.\")\n",
    "    apx_username: str = Field(\n",
    "        os.environ.get(\"KTP_APX_USERNAME\"), description=\"APX username.\"\n",
    "    )\n",
    "    apx_password: str = Field(\n",
    "        os.environ.get(\"KTP_APX_PASSWORD\"), description=\"APX password.\"\n",
    "    )\n",
    "\n",
    "    knmi_api_url: str = Field(\"\", description=\"\")\n",
    "    knmi_dataset_name: str = Field(\n",
    "        \"harmonie_arome_cy40_p1\", description=\"KNMI Dataset name.\"\n",
    "    )\n",
    "    knmi_dataset_version: str = Field(\"0.2\", description=\"KNMI dataset version.\")\n",
    "    knmi_api_key: str = Field(\n",
    "        os.environ.get(\"KTP_KNMI_API_KEY\"), description=\"KNMI API key.\"\n",
    "    )\n",
    "\n",
    "    pvoutput_getsystem_endpoint_url: str = Field(\"\", description=\"\")\n",
    "    pvoutput_getregionstatus_endpoint_url: str = Field(\"\", description=\"\")\n",
    "    pvoutput_api_sid: str = Field(\n",
    "        os.environ.get(\"KTP_PVOUTPUT_API_SID\"), description=\"PVOUTPUT API sid.\"\n",
    "    )\n",
    "    pvoutput_api_key: str = Field(\n",
    "        os.environ.get(\"KTP_PVOUTPUT_API_KEY\"), description=\"PVOUTPUT API key.\"\n",
    "    )\n",
    "\n",
    "    api_url: str = Field(\"\", description=\"\")\n",
    "    api_username: str = Field(\n",
    "        os.environ.get(\"KTP_API_USERNAME\"), description=\"API username.\"\n",
    "    )\n",
    "    api_password: str = Field(\n",
    "        os.environ.get(\"KTP_API_PASSWORD\"), description=\"API password.\"\n",
    "    )\n",
    "    api_admin_username: str = Field(\n",
    "        os.environ.get(\"KTP_API_ADMIN_USERNAME\"), description=\"API admin username.\"\n",
    "    )\n",
    "    api_admin_password: str = Field(\n",
    "        os.environ.get(\"KTP_API_ADMIN_PASSWORD\"), description=\"API admin password.\"\n",
    "    )\n",
    "\n",
    "    mysql_host: str = Field(\"\", description=\"MySQL host.\")\n",
    "    mysql_port: str = Field(\"3308\", description=\"MySQL port.\")\n",
    "    mysql_database_name: str = Field(\"tst_icarus\", description=\"MySQL database name.\")\n",
    "    mysql_username: str = Field(\n",
    "        os.environ.get(\"KTP_MYSQL_USERNAME\"), description=\"MySQL username.\"\n",
    "    )\n",
    "    mysql_password: str = Field(\n",
    "        os.environ.get(\"KTP_MYSQL_PASSWORD\"), description=\"MySQL password.\"\n",
    "    )\n",
    "\n",
    "    influxdb_host: str = Field(\"\", description=\"InfluxDB host.\")\n",
    "    influxdb_port: str = Field(\"8086\", description=\"InfluxDB port.\")\n",
    "    influxdb_username: str = Field(\n",
    "        os.environ.get(\"KTP_INFLUXDB_USERNAME\"), description=\"InfluxDB username.\"\n",
    "    )\n",
    "    influxdb_password: str = Field(\n",
    "        os.environ.get(\"KTP_INFLUXDB_PASSWORD\"), description=\"InfluxDB password.\"\n",
    "    )\n",
    "\n",
    "    proxies: Union[dict[str, str], None] = None\n",
    "\n",
    "    env: str = Field(\"container\", description=\"Environment (local or container)\")\n"
   ]
  },
  {
   "cell_type": "code",
   "execution_count": 2,
   "id": "4708d8ef",
   "metadata": {},
   "outputs": [
    {
     "name": "stderr",
     "output_type": "stream",
     "text": [
      "/mnt/c/repos/openstef-dbc/openstef_dbc/ktp_api.py:184: UserWarning: Could not establish connection with ktp-api. Continuing anyway... Invalid URL 'api/influx/ping': No scheme supplied. Perhaps you meant http://api/influx/ping?\n",
      "  warnings.warn(\n"
     ]
    }
   ],
   "source": [
    "from openstef_dbc.data_interface import _DataInterface\n",
    "\n",
    "config = AppSettings()\n",
    "\n",
    "di = _DataInterface(config)"
   ]
  },
  {
   "cell_type": "code",
   "execution_count": 3,
   "id": "453fd09f",
   "metadata": {},
   "outputs": [
    {
     "data": {
      "text/plain": [
       "AppSettings(loglevel='INFO', teams_alert_url=None, teams_monitoring_url=None, apx_host='', apx_port='22', apx_username=None, apx_password=None, knmi_api_url='', knmi_dataset_name='harmonie_arome_cy40_p1', knmi_dataset_version='0.2', knmi_api_key=None, pvoutput_getsystem_endpoint_url='', pvoutput_getregionstatus_endpoint_url='http://data.pvoutput.org/data/r2/getregionstatus.jsp', pvoutput_api_sid='62812', pvoutput_api_key='a3a026c2f3d69d2b5ad89bfef05eb0214801fc39', api_url='', api_username=None, api_password=None, api_admin_username=None, api_admin_password=None, mysql_host='localhost', mysql_port='3308', mysql_database_name='tst_icarus', mysql_username='icarus', mysql_password='91jnp6r0usek5gpm8vvam76s0vzuffcbus1x', influxdb_host='localhost', influxdb_port='8086', influxdb_username='influx', influxdb_password='XcXCsRRDSg1mnoc8Zhpdagr78b6yiH37', proxies=None, env='container')"
      ]
     },
     "execution_count": 3,
     "metadata": {},
     "output_type": "execute_result"
    }
   ],
   "source": [
    "config"
   ]
  },
  {
   "cell_type": "code",
   "execution_count": 4,
   "id": "7ac4af97",
   "metadata": {},
   "outputs": [],
   "source": [
    "weatherparams = [\"pressure\" , \"windspeed_100m\"]"
   ]
  },
  {
   "cell_type": "code",
   "execution_count": 5,
   "id": "1e3a1223",
   "metadata": {},
   "outputs": [],
   "source": [
    "weather_params_str = '\" or r._field == \"'.join(weatherparams)"
   ]
  },
  {
   "cell_type": "code",
   "execution_count": 6,
   "id": "cb1b7d0f",
   "metadata": {},
   "outputs": [],
   "source": [
    "source = [ \"harm_arome\"]\n"
   ]
  },
  {
   "cell_type": "code",
   "execution_count": 7,
   "id": "3a1f755a",
   "metadata": {},
   "outputs": [],
   "source": [
    "weather_models_str = '\" or r.source == \"'.join(\n",
    "            [s for s in source]\n",
    "        )"
   ]
  },
  {
   "cell_type": "code",
   "execution_count": 8,
   "id": "c58a4441",
   "metadata": {},
   "outputs": [
    {
     "data": {
      "text/plain": [
       "'harm_arome'"
      ]
     },
     "execution_count": 8,
     "metadata": {},
     "output_type": "execute_result"
    }
   ],
   "source": [
    "weather_models_str"
   ]
  },
  {
   "cell_type": "code",
   "execution_count": 9,
   "id": "ccdcecc5",
   "metadata": {},
   "outputs": [
    {
     "data": {
      "text/plain": [
       "'pressure\" or r._field == \"windspeed_100m'"
      ]
     },
     "execution_count": 9,
     "metadata": {},
     "output_type": "execute_result"
    }
   ],
   "source": [
    "weather_params_str"
   ]
  },
  {
   "cell_type": "code",
   "execution_count": 10,
   "id": "fa5c2019",
   "metadata": {},
   "outputs": [],
   "source": [
    "from datetime import datetime, timedelta\n",
    "p = {\"_start\": datetime.utcnow() - timedelta(days = 7),\n",
    "     \"_stop\": datetime.utcnow(),     \n",
    "     \"_input_city\": \"Arnhem\",\n",
    "     \"_source\": \"harm_arome\",\n",
    "     \"_field\": \"pressure\",         \n",
    "         }\n",
    "\n",
    "query_dataframe = f'''from(bucket: \"forecast_latest/autogen\") |> range(start: {p[\"_start\"].strftime('%Y-%m-%dT%H:%M:%SZ')}, stop: {p[\"_stop\"].strftime('%Y-%m-%dT%H:%M:%SZ')}) \n",
    "    |> filter(fn: (r) => r._measurement == \"weather\" and (r._field == \"{weather_params_str}\") and (r.source == \"{weather_models_str}\") and r.input_city == \"{p[\"_input_city\"]}\")'''\n",
    "\n",
    "#from(bucket: \"forecast_latest/autogen\") |> range(start: 2023-03-06T12:55:32Z, stop: 2023-03-13T12:55:32Z)  |> filter(fn: (r) => r._measurement == \"weather\" and (r._field == \"pressure\" or r._field == \"windspeed_100m\") and r.source == \"harm_arome\" and r.input_city == \"Arnhem\")\n"
   ]
  },
  {
   "cell_type": "code",
   "execution_count": 11,
   "id": "78c7e4bd",
   "metadata": {},
   "outputs": [
    {
     "data": {
      "text/plain": [
       "'from(bucket: \"forecast_latest/autogen\") |> range(start: 2023-03-08T08:49:40Z, stop: 2023-03-15T08:49:40Z) \\n    |> filter(fn: (r) => r._measurement == \"weather\" and (r._field == \"pressure\" or r._field == \"windspeed_100m\") and (r.source == \"harm_arome\") and r.input_city == \"Arnhem\")'"
      ]
     },
     "execution_count": 11,
     "metadata": {},
     "output_type": "execute_result"
    }
   ],
   "source": [
    "query_dataframe"
   ]
  },
  {
   "cell_type": "code",
   "execution_count": 12,
   "id": "07f56afe",
   "metadata": {},
   "outputs": [],
   "source": [
    "query_dataframe = '''from(bucket: \"forecast_latest/autogen\" )   \n",
    " |> range(start: - 10d) \n",
    " |> limit(n:10)\n",
    " |> filter(fn: (r) => r._measurement == \"weather\" and r.source == \"harm_arome\" and r._field == \"source_run\")\n",
    " |> max()'''"
   ]
  },
  {
   "cell_type": "code",
   "execution_count": 17,
   "id": "d2d48b51",
   "metadata": {},
   "outputs": [
    {
     "name": "stderr",
     "output_type": "stream",
     "text": [
      "/home/janmaarten/miniconda3/envs/openstef-dbc/lib/python3.9/site-packages/influxdb_client/client/warnings.py:31: MissingPivotFunction: The query doesn't contains the pivot() function.\n",
      "\n",
      "The result will not be shaped to optimal processing by pandas.DataFrame. Use the pivot() function by:\n",
      "\n",
      "    buckets() |> pivot(rowKey:[\"_time\"], columnKey: [\"_field\"], valueColumn: \"_value\")\n",
      "\n",
      "You can disable this warning by:\n",
      "    import warnings\n",
      "    from influxdb_client.client.warnings import MissingPivotFunction\n",
      "\n",
      "    warnings.simplefilter(\"ignore\", MissingPivotFunction)\n",
      "\n",
      "For more info see:\n",
      "    - https://docs.influxdata.com/resources/videos/pivots-in-flux/\n",
      "    - https://docs.influxdata.com/flux/latest/stdlib/universe/pivot/\n",
      "    - https://docs.influxdata.com/flux/latest/stdlib/influxdata/influxdb/schema/fieldsascols/\n",
      "\n",
      "  warnings.warn(message, MissingPivotFunction)\n"
     ]
    }
   ],
   "source": [
    "raw_dataframe = di.exec_influx_query(\"buckets()\")"
   ]
  },
  {
   "cell_type": "code",
   "execution_count": 14,
   "id": "47831d68",
   "metadata": {},
   "outputs": [
    {
     "data": {
      "text/plain": [
       "'from(bucket: \"forecast_latest/autogen\" )   \\n |> range(start: - 10d) \\n |> limit(n:10)\\n |> filter(fn: (r) => r._measurement == \"weather\" and r.source == \"harm_arome\" and r._field == \"source_run\")\\n |> max()'"
      ]
     },
     "execution_count": 14,
     "metadata": {},
     "output_type": "execute_result"
    }
   ],
   "source": [
    "query_dataframe"
   ]
  },
  {
   "cell_type": "code",
   "execution_count": 19,
   "id": "5c1c37af",
   "metadata": {},
   "outputs": [
    {
     "data": {
      "text/plain": [
       "6"
      ]
     },
     "execution_count": 19,
     "metadata": {},
     "output_type": "execute_result"
    }
   ],
   "source": [
    "len(raw_dataframe)"
   ]
  },
  {
   "cell_type": "code",
   "execution_count": 16,
   "id": "0d608a12",
   "metadata": {},
   "outputs": [
    {
     "data": {
      "text/html": [
       "<div>\n",
       "<style scoped>\n",
       "    .dataframe tbody tr th:only-of-type {\n",
       "        vertical-align: middle;\n",
       "    }\n",
       "\n",
       "    .dataframe tbody tr th {\n",
       "        vertical-align: top;\n",
       "    }\n",
       "\n",
       "    .dataframe thead th {\n",
       "        text-align: right;\n",
       "    }\n",
       "</style>\n",
       "<table border=\"1\" class=\"dataframe\">\n",
       "  <thead>\n",
       "    <tr style=\"text-align: right;\">\n",
       "      <th></th>\n",
       "      <th>result</th>\n",
       "      <th>table</th>\n",
       "      <th>_start</th>\n",
       "      <th>_stop</th>\n",
       "      <th>_time</th>\n",
       "      <th>_value</th>\n",
       "      <th>_field</th>\n",
       "      <th>_measurement</th>\n",
       "      <th>input_city</th>\n",
       "      <th>source</th>\n",
       "    </tr>\n",
       "  </thead>\n",
       "  <tbody>\n",
       "    <tr>\n",
       "      <th>0</th>\n",
       "      <td>_result</td>\n",
       "      <td>0</td>\n",
       "      <td>2023-03-05 08:49:42.376199+00:00</td>\n",
       "      <td>2023-03-15 08:49:42.376199+00:00</td>\n",
       "      <td>2023-03-06 02:00:00+00:00</td>\n",
       "      <td>1678060800</td>\n",
       "      <td>source_run</td>\n",
       "      <td>weather</td>\n",
       "      <td>Aalsmeer_Bloemenveiling</td>\n",
       "      <td>harm_arome</td>\n",
       "    </tr>\n",
       "    <tr>\n",
       "      <th>1</th>\n",
       "      <td>_result</td>\n",
       "      <td>1</td>\n",
       "      <td>2023-03-05 08:49:42.376199+00:00</td>\n",
       "      <td>2023-03-15 08:49:42.376199+00:00</td>\n",
       "      <td>2023-03-06 02:00:00+00:00</td>\n",
       "      <td>1678060800</td>\n",
       "      <td>source_run</td>\n",
       "      <td>weather</td>\n",
       "      <td>Alkmaar</td>\n",
       "      <td>harm_arome</td>\n",
       "    </tr>\n",
       "    <tr>\n",
       "      <th>2</th>\n",
       "      <td>_result</td>\n",
       "      <td>2</td>\n",
       "      <td>2023-03-05 08:49:42.376199+00:00</td>\n",
       "      <td>2023-03-15 08:49:42.376199+00:00</td>\n",
       "      <td>2023-03-06 02:00:00+00:00</td>\n",
       "      <td>1678060800</td>\n",
       "      <td>source_run</td>\n",
       "      <td>weather</td>\n",
       "      <td>Almelo</td>\n",
       "      <td>harm_arome</td>\n",
       "    </tr>\n",
       "    <tr>\n",
       "      <th>3</th>\n",
       "      <td>_result</td>\n",
       "      <td>3</td>\n",
       "      <td>2023-03-05 08:49:42.376199+00:00</td>\n",
       "      <td>2023-03-15 08:49:42.376199+00:00</td>\n",
       "      <td>2023-03-06 02:00:00+00:00</td>\n",
       "      <td>1678060800</td>\n",
       "      <td>source_run</td>\n",
       "      <td>weather</td>\n",
       "      <td>Almere</td>\n",
       "      <td>harm_arome</td>\n",
       "    </tr>\n",
       "    <tr>\n",
       "      <th>4</th>\n",
       "      <td>_result</td>\n",
       "      <td>4</td>\n",
       "      <td>2023-03-05 08:49:42.376199+00:00</td>\n",
       "      <td>2023-03-15 08:49:42.376199+00:00</td>\n",
       "      <td>2023-03-06 02:00:00+00:00</td>\n",
       "      <td>1678060800</td>\n",
       "      <td>source_run</td>\n",
       "      <td>weather</td>\n",
       "      <td>Alphen_West</td>\n",
       "      <td>harm_arome</td>\n",
       "    </tr>\n",
       "    <tr>\n",
       "      <th>...</th>\n",
       "      <td>...</td>\n",
       "      <td>...</td>\n",
       "      <td>...</td>\n",
       "      <td>...</td>\n",
       "      <td>...</td>\n",
       "      <td>...</td>\n",
       "      <td>...</td>\n",
       "      <td>...</td>\n",
       "      <td>...</td>\n",
       "      <td>...</td>\n",
       "    </tr>\n",
       "    <tr>\n",
       "      <th>119</th>\n",
       "      <td>_result</td>\n",
       "      <td>119</td>\n",
       "      <td>2023-03-05 08:49:42.376199+00:00</td>\n",
       "      <td>2023-03-15 08:49:42.376199+00:00</td>\n",
       "      <td>2023-03-06 02:00:00+00:00</td>\n",
       "      <td>1678060800</td>\n",
       "      <td>source_run</td>\n",
       "      <td>weather</td>\n",
       "      <td>Zuidbroek</td>\n",
       "      <td>harm_arome</td>\n",
       "    </tr>\n",
       "    <tr>\n",
       "      <th>120</th>\n",
       "      <td>_result</td>\n",
       "      <td>120</td>\n",
       "      <td>2023-03-05 08:49:42.376199+00:00</td>\n",
       "      <td>2023-03-15 08:49:42.376199+00:00</td>\n",
       "      <td>2023-03-06 02:00:00+00:00</td>\n",
       "      <td>1678060800</td>\n",
       "      <td>source_run</td>\n",
       "      <td>weather</td>\n",
       "      <td>Zuiderveld</td>\n",
       "      <td>harm_arome</td>\n",
       "    </tr>\n",
       "    <tr>\n",
       "      <th>121</th>\n",
       "      <td>_result</td>\n",
       "      <td>121</td>\n",
       "      <td>2023-03-05 08:49:42.376199+00:00</td>\n",
       "      <td>2023-03-15 08:49:42.376199+00:00</td>\n",
       "      <td>2023-03-06 02:00:00+00:00</td>\n",
       "      <td>1678060800</td>\n",
       "      <td>source_run</td>\n",
       "      <td>weather</td>\n",
       "      <td>Zuilichem_RS</td>\n",
       "      <td>harm_arome</td>\n",
       "    </tr>\n",
       "    <tr>\n",
       "      <th>122</th>\n",
       "      <td>_result</td>\n",
       "      <td>122</td>\n",
       "      <td>2023-03-05 08:49:42.376199+00:00</td>\n",
       "      <td>2023-03-15 08:49:42.376199+00:00</td>\n",
       "      <td>2023-03-06 02:00:00+00:00</td>\n",
       "      <td>1678060800</td>\n",
       "      <td>source_run</td>\n",
       "      <td>weather</td>\n",
       "      <td>Zutphen</td>\n",
       "      <td>harm_arome</td>\n",
       "    </tr>\n",
       "    <tr>\n",
       "      <th>123</th>\n",
       "      <td>_result</td>\n",
       "      <td>123</td>\n",
       "      <td>2023-03-05 08:49:42.376199+00:00</td>\n",
       "      <td>2023-03-15 08:49:42.376199+00:00</td>\n",
       "      <td>2023-03-06 02:00:00+00:00</td>\n",
       "      <td>1678060800</td>\n",
       "      <td>source_run</td>\n",
       "      <td>weather</td>\n",
       "      <td>s-Graveland</td>\n",
       "      <td>harm_arome</td>\n",
       "    </tr>\n",
       "  </tbody>\n",
       "</table>\n",
       "<p>124 rows × 10 columns</p>\n",
       "</div>"
      ],
      "text/plain": [
       "      result  table                           _start  \\\n",
       "0    _result      0 2023-03-05 08:49:42.376199+00:00   \n",
       "1    _result      1 2023-03-05 08:49:42.376199+00:00   \n",
       "2    _result      2 2023-03-05 08:49:42.376199+00:00   \n",
       "3    _result      3 2023-03-05 08:49:42.376199+00:00   \n",
       "4    _result      4 2023-03-05 08:49:42.376199+00:00   \n",
       "..       ...    ...                              ...   \n",
       "119  _result    119 2023-03-05 08:49:42.376199+00:00   \n",
       "120  _result    120 2023-03-05 08:49:42.376199+00:00   \n",
       "121  _result    121 2023-03-05 08:49:42.376199+00:00   \n",
       "122  _result    122 2023-03-05 08:49:42.376199+00:00   \n",
       "123  _result    123 2023-03-05 08:49:42.376199+00:00   \n",
       "\n",
       "                               _stop                     _time      _value  \\\n",
       "0   2023-03-15 08:49:42.376199+00:00 2023-03-06 02:00:00+00:00  1678060800   \n",
       "1   2023-03-15 08:49:42.376199+00:00 2023-03-06 02:00:00+00:00  1678060800   \n",
       "2   2023-03-15 08:49:42.376199+00:00 2023-03-06 02:00:00+00:00  1678060800   \n",
       "3   2023-03-15 08:49:42.376199+00:00 2023-03-06 02:00:00+00:00  1678060800   \n",
       "4   2023-03-15 08:49:42.376199+00:00 2023-03-06 02:00:00+00:00  1678060800   \n",
       "..                               ...                       ...         ...   \n",
       "119 2023-03-15 08:49:42.376199+00:00 2023-03-06 02:00:00+00:00  1678060800   \n",
       "120 2023-03-15 08:49:42.376199+00:00 2023-03-06 02:00:00+00:00  1678060800   \n",
       "121 2023-03-15 08:49:42.376199+00:00 2023-03-06 02:00:00+00:00  1678060800   \n",
       "122 2023-03-15 08:49:42.376199+00:00 2023-03-06 02:00:00+00:00  1678060800   \n",
       "123 2023-03-15 08:49:42.376199+00:00 2023-03-06 02:00:00+00:00  1678060800   \n",
       "\n",
       "         _field _measurement               input_city      source  \n",
       "0    source_run      weather  Aalsmeer_Bloemenveiling  harm_arome  \n",
       "1    source_run      weather                  Alkmaar  harm_arome  \n",
       "2    source_run      weather                   Almelo  harm_arome  \n",
       "3    source_run      weather                   Almere  harm_arome  \n",
       "4    source_run      weather              Alphen_West  harm_arome  \n",
       "..          ...          ...                      ...         ...  \n",
       "119  source_run      weather                Zuidbroek  harm_arome  \n",
       "120  source_run      weather               Zuiderveld  harm_arome  \n",
       "121  source_run      weather             Zuilichem_RS  harm_arome  \n",
       "122  source_run      weather                  Zutphen  harm_arome  \n",
       "123  source_run      weather              s-Graveland  harm_arome  \n",
       "\n",
       "[124 rows x 10 columns]"
      ]
     },
     "execution_count": 16,
     "metadata": {},
     "output_type": "execute_result"
    }
   ],
   "source": [
    "raw_dataframe"
   ]
  },
  {
   "cell_type": "code",
   "execution_count": 69,
   "id": "dd638369",
   "metadata": {},
   "outputs": [
    {
     "data": {
      "text/plain": [
       "{0.0: 4.567,\n",
       " 0.1: 5.3,\n",
       " 0.2: 6.123,\n",
       " 0.3: 7.32,\n",
       " 0.4: 8.9,\n",
       " 0.5: 9.345,\n",
       " 0.6: 12,\n",
       " 0.7: 0.3,\n",
       " 0.8: 1.3464,\n",
       " 0.9: 0.542,\n",
       " 1.0: 3}"
      ]
     },
     "execution_count": 69,
     "metadata": {},
     "output_type": "execute_result"
    }
   ],
   "source": [
    "dict(zip(runs, [4.567, 5.3, 6.123, 7.32, 8.9, 9.345, 12, 0.3, 1.3464, 0.542, 3]))"
   ]
  },
  {
   "cell_type": "code",
   "execution_count": null,
   "id": "27be5b90",
   "metadata": {},
   "outputs": [],
   "source": []
  },
  {
   "cell_type": "code",
   "execution_count": 72,
   "id": "a0b8abc2",
   "metadata": {},
   "outputs": [],
   "source": [
    "import pandas as pd\n",
    "\n",
    "\n",
    "runs = [0.0, 0.1, 0.2, 0.3, 0.4, 0.5, 0.6, 0.7, 0.8, 0.9, 1.0]\n",
    "\n",
    "\n",
    "\n",
    "res = pd.DataFrame(columns = quantiles )\n",
    "\n",
    "\n",
    "this__timestep = pd.DataFrame(data=dict(zip(runs, [4.567, 5.3, 6.123, 7.32, 8.9, 9.345, 12, 0.3, 1.3464, 0.542, 3])), index=[0])"
   ]
  },
  {
   "cell_type": "code",
   "execution_count": 73,
   "id": "c191a902",
   "metadata": {},
   "outputs": [
    {
     "data": {
      "text/html": [
       "<div>\n",
       "<style scoped>\n",
       "    .dataframe tbody tr th:only-of-type {\n",
       "        vertical-align: middle;\n",
       "    }\n",
       "\n",
       "    .dataframe tbody tr th {\n",
       "        vertical-align: top;\n",
       "    }\n",
       "\n",
       "    .dataframe thead th {\n",
       "        text-align: right;\n",
       "    }\n",
       "</style>\n",
       "<table border=\"1\" class=\"dataframe\">\n",
       "  <thead>\n",
       "    <tr style=\"text-align: right;\">\n",
       "      <th></th>\n",
       "      <th>0.0</th>\n",
       "      <th>0.1</th>\n",
       "      <th>0.2</th>\n",
       "      <th>0.3</th>\n",
       "      <th>0.4</th>\n",
       "      <th>0.5</th>\n",
       "      <th>0.6</th>\n",
       "      <th>0.7</th>\n",
       "      <th>0.8</th>\n",
       "      <th>0.9</th>\n",
       "      <th>1.0</th>\n",
       "    </tr>\n",
       "  </thead>\n",
       "  <tbody>\n",
       "    <tr>\n",
       "      <th>0</th>\n",
       "      <td>4.567</td>\n",
       "      <td>5.3</td>\n",
       "      <td>6.123</td>\n",
       "      <td>7.32</td>\n",
       "      <td>8.9</td>\n",
       "      <td>9.345</td>\n",
       "      <td>12</td>\n",
       "      <td>0.3</td>\n",
       "      <td>1.3464</td>\n",
       "      <td>0.542</td>\n",
       "      <td>3</td>\n",
       "    </tr>\n",
       "  </tbody>\n",
       "</table>\n",
       "</div>"
      ],
      "text/plain": [
       "     0.0  0.1    0.2   0.3  0.4    0.5 0.6  0.7     0.8    0.9 1.0\n",
       "0  4.567  5.3  6.123  7.32  8.9  9.345  12  0.3  1.3464  0.542   3"
      ]
     },
     "execution_count": 73,
     "metadata": {},
     "output_type": "execute_result"
    }
   ],
   "source": [
    "pd.concat([res,this__timestep])"
   ]
  },
  {
   "cell_type": "code",
   "execution_count": 83,
   "id": "8b07936a",
   "metadata": {},
   "outputs": [
    {
     "data": {
      "text/plain": [
       "[0.42100000000000004,\n",
       " 0.542,\n",
       " 1.3464,\n",
       " 3.0,\n",
       " 4.567,\n",
       " 5.3,\n",
       " 6.123,\n",
       " 7.32,\n",
       " 8.9,\n",
       " 9.345,\n",
       " 10.6725]"
      ]
     },
     "execution_count": 83,
     "metadata": {},
     "output_type": "execute_result"
    }
   ],
   "source": [
    "[float(this__timestep.T.quantile(run)) for run in [0.05, 0.1, 0.2, 0.3, 0.4, 0.5, 0.6, 0.7, 0.8, 0.9, 0.95]]"
   ]
  },
  {
   "cell_type": "code",
   "execution_count": 82,
   "id": "f064db1b",
   "metadata": {},
   "outputs": [
    {
     "data": {
      "text/html": [
       "<div>\n",
       "<style scoped>\n",
       "    .dataframe tbody tr th:only-of-type {\n",
       "        vertical-align: middle;\n",
       "    }\n",
       "\n",
       "    .dataframe tbody tr th {\n",
       "        vertical-align: top;\n",
       "    }\n",
       "\n",
       "    .dataframe thead th {\n",
       "        text-align: right;\n",
       "    }\n",
       "</style>\n",
       "<table border=\"1\" class=\"dataframe\">\n",
       "  <thead>\n",
       "    <tr style=\"text-align: right;\">\n",
       "      <th></th>\n",
       "      <th>0.7</th>\n",
       "      <th>0.9</th>\n",
       "      <th>0.8</th>\n",
       "      <th>1.0</th>\n",
       "      <th>0.0</th>\n",
       "      <th>0.1</th>\n",
       "      <th>0.2</th>\n",
       "      <th>0.3</th>\n",
       "      <th>0.4</th>\n",
       "      <th>0.5</th>\n",
       "      <th>0.6</th>\n",
       "    </tr>\n",
       "  </thead>\n",
       "  <tbody>\n",
       "    <tr>\n",
       "      <th>0</th>\n",
       "      <td>0.3</td>\n",
       "      <td>0.542</td>\n",
       "      <td>1.3464</td>\n",
       "      <td>3</td>\n",
       "      <td>4.567</td>\n",
       "      <td>5.3</td>\n",
       "      <td>6.123</td>\n",
       "      <td>7.32</td>\n",
       "      <td>8.9</td>\n",
       "      <td>9.345</td>\n",
       "      <td>12</td>\n",
       "    </tr>\n",
       "  </tbody>\n",
       "</table>\n",
       "</div>"
      ],
      "text/plain": [
       "   0.7    0.9     0.8  1.0    0.0  0.1    0.2   0.3  0.4    0.5  0.6\n",
       "0  0.3  0.542  1.3464    3  4.567  5.3  6.123  7.32  8.9  9.345   12"
      ]
     },
     "execution_count": 82,
     "metadata": {},
     "output_type": "execute_result"
    }
   ],
   "source": [
    "this__timestep.sort_values(axis=1, by=0)"
   ]
  },
  {
   "cell_type": "code",
   "execution_count": 37,
   "id": "29b9c867",
   "metadata": {},
   "outputs": [
    {
     "data": {
      "text/html": [
       "<div>\n",
       "<style scoped>\n",
       "    .dataframe tbody tr th:only-of-type {\n",
       "        vertical-align: middle;\n",
       "    }\n",
       "\n",
       "    .dataframe tbody tr th {\n",
       "        vertical-align: top;\n",
       "    }\n",
       "\n",
       "    .dataframe thead th {\n",
       "        text-align: right;\n",
       "    }\n",
       "</style>\n",
       "<table border=\"1\" class=\"dataframe\">\n",
       "  <thead>\n",
       "    <tr style=\"text-align: right;\">\n",
       "      <th></th>\n",
       "      <th>0</th>\n",
       "    </tr>\n",
       "  </thead>\n",
       "  <tbody>\n",
       "    <tr>\n",
       "      <th>0</th>\n",
       "      <td>4.0</td>\n",
       "    </tr>\n",
       "    <tr>\n",
       "      <th>1</th>\n",
       "      <td>5.0</td>\n",
       "    </tr>\n",
       "    <tr>\n",
       "      <th>2</th>\n",
       "      <td>6.0</td>\n",
       "    </tr>\n",
       "    <tr>\n",
       "      <th>3</th>\n",
       "      <td>7.0</td>\n",
       "    </tr>\n",
       "    <tr>\n",
       "      <th>4</th>\n",
       "      <td>8.0</td>\n",
       "    </tr>\n",
       "    <tr>\n",
       "      <th>5</th>\n",
       "      <td>9.0</td>\n",
       "    </tr>\n",
       "    <tr>\n",
       "      <th>6</th>\n",
       "      <td>10.0</td>\n",
       "    </tr>\n",
       "    <tr>\n",
       "      <th>7</th>\n",
       "      <td>0.0</td>\n",
       "    </tr>\n",
       "    <tr>\n",
       "      <th>8</th>\n",
       "      <td>1.0</td>\n",
       "    </tr>\n",
       "    <tr>\n",
       "      <th>9</th>\n",
       "      <td>2.0</td>\n",
       "    </tr>\n",
       "    <tr>\n",
       "      <th>10</th>\n",
       "      <td>3.0</td>\n",
       "    </tr>\n",
       "  </tbody>\n",
       "</table>\n",
       "</div>"
      ],
      "text/plain": [
       "       0\n",
       "0    4.0\n",
       "1    5.0\n",
       "2    6.0\n",
       "3    7.0\n",
       "4    8.0\n",
       "5    9.0\n",
       "6   10.0\n",
       "7    0.0\n",
       "8    1.0\n",
       "9    2.0\n",
       "10   3.0"
      ]
     },
     "execution_count": 37,
     "metadata": {},
     "output_type": "execute_result"
    }
   ],
   "source": [
    "pd.DataFrame([4, 5, 6, 7, 8, 9, 10, 0.0, 1, 2, 3])"
   ]
  },
  {
   "cell_type": "code",
   "execution_count": null,
   "id": "16ef04ad",
   "metadata": {},
   "outputs": [],
   "source": []
  },
  {
   "cell_type": "code",
   "execution_count": null,
   "id": "1b755c93",
   "metadata": {},
   "outputs": [],
   "source": []
  },
  {
   "cell_type": "code",
   "execution_count": null,
   "id": "d0f19bb2",
   "metadata": {},
   "outputs": [],
   "source": []
  },
  {
   "cell_type": "code",
   "execution_count": null,
   "id": "fe0702e0",
   "metadata": {},
   "outputs": [],
   "source": []
  },
  {
   "cell_type": "code",
   "execution_count": null,
   "id": "a60a5c15",
   "metadata": {},
   "outputs": [],
   "source": []
  },
  {
   "cell_type": "code",
   "execution_count": 16,
   "id": "02bffdfb",
   "metadata": {},
   "outputs": [
    {
     "name": "stderr",
     "output_type": "stream",
     "text": [
      "/home/janmaarten/miniconda3/envs/openstef-dbc/lib/python3.9/site-packages/influxdb_client/client/warnings.py:31: MissingPivotFunction: The query doesn't contains the pivot() function.\n",
      "\n",
      "The result will not be shaped to optimal processing by pandas.DataFrame. Use the pivot() function by:\n",
      "\n",
      "    from(bucket: \"forecast_latest/autogen\" )   \n",
      " |> range(start: - 10d) \n",
      " |> limit(n:10)\n",
      " |> filter(fn: (r) => r._measurement == \"weather\" and r.source == \"harm_arome\" and r._field == \"source_run\")\n",
      " |> max() |> pivot(rowKey:[\"_time\"], columnKey: [\"_field\"], valueColumn: \"_value\")\n",
      "\n",
      "You can disable this warning by:\n",
      "    import warnings\n",
      "    from influxdb_client.client.warnings import MissingPivotFunction\n",
      "\n",
      "    warnings.simplefilter(\"ignore\", MissingPivotFunction)\n",
      "\n",
      "For more info see:\n",
      "    - https://docs.influxdata.com/resources/videos/pivots-in-flux/\n",
      "    - https://docs.influxdata.com/flux/latest/stdlib/universe/pivot/\n",
      "    - https://docs.influxdata.com/flux/latest/stdlib/influxdata/influxdb/schema/fieldsascols/\n",
      "\n",
      "  warnings.warn(message, MissingPivotFunction)\n"
     ]
    },
    {
     "ename": "NameError",
     "evalue": "name 'pd' is not defined",
     "output_type": "error",
     "traceback": [
      "\u001b[0;31m---------------------------------------------------------------------------\u001b[0m",
      "\u001b[0;31mNameError\u001b[0m                                 Traceback (most recent call last)",
      "Cell \u001b[0;32mIn[16], line 10\u001b[0m\n\u001b[1;32m      8\u001b[0m \u001b[38;5;66;03m# Check if response is empty\u001b[39;00m\n\u001b[1;32m      9\u001b[0m \u001b[38;5;28;01mif\u001b[39;00m \u001b[38;5;129;01mnot\u001b[39;00m result\u001b[38;5;241m.\u001b[39mempty:                       \n\u001b[0;32m---> 10\u001b[0m     result[\u001b[38;5;124m\"\u001b[39m\u001b[38;5;124m_time\u001b[39m\u001b[38;5;124m\"\u001b[39m] \u001b[38;5;241m=\u001b[39m \u001b[43mpd\u001b[49m\u001b[38;5;241m.\u001b[39mto_datetime(result[\u001b[38;5;124m\"\u001b[39m\u001b[38;5;124m_time\u001b[39m\u001b[38;5;124m\"\u001b[39m])\n\u001b[1;32m     11\u001b[0m     result \u001b[38;5;241m=\u001b[39m result\u001b[38;5;241m.\u001b[39mpivot_table(columns \u001b[38;5;241m=\u001b[39m \u001b[38;5;124m\"\u001b[39m\u001b[38;5;124m_field\u001b[39m\u001b[38;5;124m\"\u001b[39m, values \u001b[38;5;241m=\u001b[39m \u001b[38;5;124m\"\u001b[39m\u001b[38;5;124m_value\u001b[39m\u001b[38;5;124m\"\u001b[39m, index \u001b[38;5;241m=\u001b[39m [\u001b[38;5;124m\"\u001b[39m\u001b[38;5;124m_time\u001b[39m\u001b[38;5;124m\"\u001b[39m, \u001b[38;5;124m\"\u001b[39m\u001b[38;5;124msource\u001b[39m\u001b[38;5;124m\"\u001b[39m])\n\u001b[1;32m     12\u001b[0m     result \u001b[38;5;241m=\u001b[39m result\u001b[38;5;241m.\u001b[39mreset_index()\u001b[38;5;241m.\u001b[39mset_index(\u001b[38;5;124m\"\u001b[39m\u001b[38;5;124m_time\u001b[39m\u001b[38;5;124m\"\u001b[39m)\n",
      "\u001b[0;31mNameError\u001b[0m: name 'pd' is not defined"
     ]
    }
   ],
   "source": [
    "# Execute Query\n",
    "result = _DataInterface.get_instance().exec_influx_query(query_dataframe)\n",
    "\n",
    "# For multiple Fields a list is returned.\n",
    "if isinstance(result, list):\n",
    "    result = pd.concat(result)[[\"_value\", \"_field\", \"_time\", \"source\"]]\n",
    "\n",
    "# Check if response is empty\n",
    "if not result.empty:                       \n",
    "    result[\"_time\"] = pd.to_datetime(result[\"_time\"])\n",
    "    result = result.pivot_table(columns = \"_field\", values = \"_value\", index = [\"_time\", \"source\"])\n",
    "    result = result.reset_index().set_index(\"_time\")\n",
    "    result.index.name = \"datetime\"\n",
    "    result.columns.name = \"\""
   ]
  },
  {
   "cell_type": "code",
   "execution_count": 90,
   "id": "0d38f0be",
   "metadata": {},
   "outputs": [
    {
     "data": {
      "text/html": [
       "<div>\n",
       "<style scoped>\n",
       "    .dataframe tbody tr th:only-of-type {\n",
       "        vertical-align: middle;\n",
       "    }\n",
       "\n",
       "    .dataframe tbody tr th {\n",
       "        vertical-align: top;\n",
       "    }\n",
       "\n",
       "    .dataframe thead th {\n",
       "        text-align: right;\n",
       "    }\n",
       "</style>\n",
       "<table border=\"1\" class=\"dataframe\">\n",
       "  <thead>\n",
       "    <tr style=\"text-align: right;\">\n",
       "      <th></th>\n",
       "      <th>source</th>\n",
       "      <th>pressure</th>\n",
       "      <th>windspeed_100m</th>\n",
       "    </tr>\n",
       "    <tr>\n",
       "      <th>datetime</th>\n",
       "      <th></th>\n",
       "      <th></th>\n",
       "      <th></th>\n",
       "    </tr>\n",
       "  </thead>\n",
       "  <tbody>\n",
       "    <tr>\n",
       "      <th>2023-03-06 17:00:00+00:00</th>\n",
       "      <td>harm_arome</td>\n",
       "      <td>100251.046875</td>\n",
       "      <td>8.202213</td>\n",
       "    </tr>\n",
       "    <tr>\n",
       "      <th>2023-03-06 18:00:00+00:00</th>\n",
       "      <td>harm_arome</td>\n",
       "      <td>100200.570312</td>\n",
       "      <td>10.458542</td>\n",
       "    </tr>\n",
       "    <tr>\n",
       "      <th>2023-03-06 19:00:00+00:00</th>\n",
       "      <td>harm_arome</td>\n",
       "      <td>100137.156250</td>\n",
       "      <td>10.880281</td>\n",
       "    </tr>\n",
       "    <tr>\n",
       "      <th>2023-03-06 20:00:00+00:00</th>\n",
       "      <td>harm_arome</td>\n",
       "      <td>100049.578125</td>\n",
       "      <td>11.590160</td>\n",
       "    </tr>\n",
       "    <tr>\n",
       "      <th>2023-03-06 21:00:00+00:00</th>\n",
       "      <td>harm_arome</td>\n",
       "      <td>99971.867188</td>\n",
       "      <td>12.496329</td>\n",
       "    </tr>\n",
       "    <tr>\n",
       "      <th>...</th>\n",
       "      <td>...</td>\n",
       "      <td>...</td>\n",
       "      <td>...</td>\n",
       "    </tr>\n",
       "    <tr>\n",
       "      <th>2023-03-12 08:00:00+00:00</th>\n",
       "      <td>harm_arome</td>\n",
       "      <td>100979.898438</td>\n",
       "      <td>9.002014</td>\n",
       "    </tr>\n",
       "    <tr>\n",
       "      <th>2023-03-12 09:00:00+00:00</th>\n",
       "      <td>harm_arome</td>\n",
       "      <td>100965.054688</td>\n",
       "      <td>9.313320</td>\n",
       "    </tr>\n",
       "    <tr>\n",
       "      <th>2023-03-12 10:00:00+00:00</th>\n",
       "      <td>harm_arome</td>\n",
       "      <td>100928.945312</td>\n",
       "      <td>8.569684</td>\n",
       "    </tr>\n",
       "    <tr>\n",
       "      <th>2023-03-12 11:00:00+00:00</th>\n",
       "      <td>harm_arome</td>\n",
       "      <td>100909.531250</td>\n",
       "      <td>8.554896</td>\n",
       "    </tr>\n",
       "    <tr>\n",
       "      <th>2023-03-12 12:00:00+00:00</th>\n",
       "      <td>harm_arome</td>\n",
       "      <td>100855.281250</td>\n",
       "      <td>10.322708</td>\n",
       "    </tr>\n",
       "  </tbody>\n",
       "</table>\n",
       "<p>140 rows × 3 columns</p>\n",
       "</div>"
      ],
      "text/plain": [
       "                               source       pressure  windspeed_100m\n",
       "datetime                                                            \n",
       "2023-03-06 17:00:00+00:00  harm_arome  100251.046875        8.202213\n",
       "2023-03-06 18:00:00+00:00  harm_arome  100200.570312       10.458542\n",
       "2023-03-06 19:00:00+00:00  harm_arome  100137.156250       10.880281\n",
       "2023-03-06 20:00:00+00:00  harm_arome  100049.578125       11.590160\n",
       "2023-03-06 21:00:00+00:00  harm_arome   99971.867188       12.496329\n",
       "...                               ...            ...             ...\n",
       "2023-03-12 08:00:00+00:00  harm_arome  100979.898438        9.002014\n",
       "2023-03-12 09:00:00+00:00  harm_arome  100965.054688        9.313320\n",
       "2023-03-12 10:00:00+00:00  harm_arome  100928.945312        8.569684\n",
       "2023-03-12 11:00:00+00:00  harm_arome  100909.531250        8.554896\n",
       "2023-03-12 12:00:00+00:00  harm_arome  100855.281250       10.322708\n",
       "\n",
       "[140 rows x 3 columns]"
      ]
     },
     "execution_count": 90,
     "metadata": {},
     "output_type": "execute_result"
    }
   ],
   "source": [
    "result"
   ]
  },
  {
   "cell_type": "code",
   "execution_count": 56,
   "id": "2c336bbd",
   "metadata": {},
   "outputs": [
    {
     "ename": "TypeError",
     "evalue": "first argument must be an iterable of pandas objects, you passed an object of type \"DataFrame\"",
     "output_type": "error",
     "traceback": [
      "\u001b[0;31m---------------------------------------------------------------------------\u001b[0m",
      "\u001b[0;31mTypeError\u001b[0m                                 Traceback (most recent call last)",
      "Cell \u001b[0;32mIn[56], line 3\u001b[0m\n\u001b[1;32m      1\u001b[0m \u001b[38;5;28;01mimport\u001b[39;00m \u001b[38;5;21;01mpandas\u001b[39;00m \u001b[38;5;28;01mas\u001b[39;00m \u001b[38;5;21;01mpd\u001b[39;00m\n\u001b[0;32m----> 3\u001b[0m raw_dataframe \u001b[38;5;241m=\u001b[39m \u001b[43mpd\u001b[49m\u001b[38;5;241;43m.\u001b[39;49m\u001b[43mconcat\u001b[49m\u001b[43m(\u001b[49m\u001b[43mraw_dataframe\u001b[49m\u001b[43m)\u001b[49m[[\u001b[38;5;124m\"\u001b[39m\u001b[38;5;124m_value\u001b[39m\u001b[38;5;124m\"\u001b[39m, \u001b[38;5;124m\"\u001b[39m\u001b[38;5;124m_field\u001b[39m\u001b[38;5;124m\"\u001b[39m, \u001b[38;5;124m\"\u001b[39m\u001b[38;5;124m_time\u001b[39m\u001b[38;5;124m\"\u001b[39m]]\n\u001b[1;32m      4\u001b[0m raw_dataframe[\u001b[38;5;124m\"\u001b[39m\u001b[38;5;124m_time\u001b[39m\u001b[38;5;124m\"\u001b[39m] \u001b[38;5;241m=\u001b[39m pd\u001b[38;5;241m.\u001b[39mto_datetime(raw_dataframe[\u001b[38;5;124m\"\u001b[39m\u001b[38;5;124m_time\u001b[39m\u001b[38;5;124m\"\u001b[39m])\n\u001b[1;32m      5\u001b[0m raw_dataframe\u001b[38;5;241m.\u001b[39mpivot_table(columns \u001b[38;5;241m=\u001b[39m \u001b[38;5;124m\"\u001b[39m\u001b[38;5;124m_field\u001b[39m\u001b[38;5;124m\"\u001b[39m, values \u001b[38;5;241m=\u001b[39m \u001b[38;5;124m\"\u001b[39m\u001b[38;5;124m_value\u001b[39m\u001b[38;5;124m\"\u001b[39m, index \u001b[38;5;241m=\u001b[39m \u001b[38;5;124m\"\u001b[39m\u001b[38;5;124m_time\u001b[39m\u001b[38;5;124m\"\u001b[39m)\n",
      "File \u001b[0;32m~/miniconda3/envs/openstef-dbc/lib/python3.9/site-packages/pandas/util/_decorators.py:331\u001b[0m, in \u001b[0;36mdeprecate_nonkeyword_arguments.<locals>.decorate.<locals>.wrapper\u001b[0;34m(*args, **kwargs)\u001b[0m\n\u001b[1;32m    325\u001b[0m \u001b[38;5;28;01mif\u001b[39;00m \u001b[38;5;28mlen\u001b[39m(args) \u001b[38;5;241m>\u001b[39m num_allow_args:\n\u001b[1;32m    326\u001b[0m     warnings\u001b[38;5;241m.\u001b[39mwarn(\n\u001b[1;32m    327\u001b[0m         msg\u001b[38;5;241m.\u001b[39mformat(arguments\u001b[38;5;241m=\u001b[39m_format_argument_list(allow_args)),\n\u001b[1;32m    328\u001b[0m         \u001b[38;5;167;01mFutureWarning\u001b[39;00m,\n\u001b[1;32m    329\u001b[0m         stacklevel\u001b[38;5;241m=\u001b[39mfind_stack_level(),\n\u001b[1;32m    330\u001b[0m     )\n\u001b[0;32m--> 331\u001b[0m \u001b[38;5;28;01mreturn\u001b[39;00m \u001b[43mfunc\u001b[49m\u001b[43m(\u001b[49m\u001b[38;5;241;43m*\u001b[39;49m\u001b[43margs\u001b[49m\u001b[43m,\u001b[49m\u001b[43m \u001b[49m\u001b[38;5;241;43m*\u001b[39;49m\u001b[38;5;241;43m*\u001b[39;49m\u001b[43mkwargs\u001b[49m\u001b[43m)\u001b[49m\n",
      "File \u001b[0;32m~/miniconda3/envs/openstef-dbc/lib/python3.9/site-packages/pandas/core/reshape/concat.py:368\u001b[0m, in \u001b[0;36mconcat\u001b[0;34m(objs, axis, join, ignore_index, keys, levels, names, verify_integrity, sort, copy)\u001b[0m\n\u001b[1;32m    146\u001b[0m \u001b[38;5;129m@deprecate_nonkeyword_arguments\u001b[39m(version\u001b[38;5;241m=\u001b[39m\u001b[38;5;28;01mNone\u001b[39;00m, allowed_args\u001b[38;5;241m=\u001b[39m[\u001b[38;5;124m\"\u001b[39m\u001b[38;5;124mobjs\u001b[39m\u001b[38;5;124m\"\u001b[39m])\n\u001b[1;32m    147\u001b[0m \u001b[38;5;28;01mdef\u001b[39;00m \u001b[38;5;21mconcat\u001b[39m(\n\u001b[1;32m    148\u001b[0m     objs: Iterable[NDFrame] \u001b[38;5;241m|\u001b[39m Mapping[HashableT, NDFrame],\n\u001b[0;32m   (...)\u001b[0m\n\u001b[1;32m    157\u001b[0m     copy: \u001b[38;5;28mbool\u001b[39m \u001b[38;5;241m=\u001b[39m \u001b[38;5;28;01mTrue\u001b[39;00m,\n\u001b[1;32m    158\u001b[0m ) \u001b[38;5;241m-\u001b[39m\u001b[38;5;241m>\u001b[39m DataFrame \u001b[38;5;241m|\u001b[39m Series:\n\u001b[1;32m    159\u001b[0m     \u001b[38;5;124;03m\"\"\"\u001b[39;00m\n\u001b[1;32m    160\u001b[0m \u001b[38;5;124;03m    Concatenate pandas objects along a particular axis.\u001b[39;00m\n\u001b[1;32m    161\u001b[0m \n\u001b[0;32m   (...)\u001b[0m\n\u001b[1;32m    366\u001b[0m \u001b[38;5;124;03m    1   3   4\u001b[39;00m\n\u001b[1;32m    367\u001b[0m \u001b[38;5;124;03m    \"\"\"\u001b[39;00m\n\u001b[0;32m--> 368\u001b[0m     op \u001b[38;5;241m=\u001b[39m \u001b[43m_Concatenator\u001b[49m\u001b[43m(\u001b[49m\n\u001b[1;32m    369\u001b[0m \u001b[43m        \u001b[49m\u001b[43mobjs\u001b[49m\u001b[43m,\u001b[49m\n\u001b[1;32m    370\u001b[0m \u001b[43m        \u001b[49m\u001b[43maxis\u001b[49m\u001b[38;5;241;43m=\u001b[39;49m\u001b[43maxis\u001b[49m\u001b[43m,\u001b[49m\n\u001b[1;32m    371\u001b[0m \u001b[43m        \u001b[49m\u001b[43mignore_index\u001b[49m\u001b[38;5;241;43m=\u001b[39;49m\u001b[43mignore_index\u001b[49m\u001b[43m,\u001b[49m\n\u001b[1;32m    372\u001b[0m \u001b[43m        \u001b[49m\u001b[43mjoin\u001b[49m\u001b[38;5;241;43m=\u001b[39;49m\u001b[43mjoin\u001b[49m\u001b[43m,\u001b[49m\n\u001b[1;32m    373\u001b[0m \u001b[43m        \u001b[49m\u001b[43mkeys\u001b[49m\u001b[38;5;241;43m=\u001b[39;49m\u001b[43mkeys\u001b[49m\u001b[43m,\u001b[49m\n\u001b[1;32m    374\u001b[0m \u001b[43m        \u001b[49m\u001b[43mlevels\u001b[49m\u001b[38;5;241;43m=\u001b[39;49m\u001b[43mlevels\u001b[49m\u001b[43m,\u001b[49m\n\u001b[1;32m    375\u001b[0m \u001b[43m        \u001b[49m\u001b[43mnames\u001b[49m\u001b[38;5;241;43m=\u001b[39;49m\u001b[43mnames\u001b[49m\u001b[43m,\u001b[49m\n\u001b[1;32m    376\u001b[0m \u001b[43m        \u001b[49m\u001b[43mverify_integrity\u001b[49m\u001b[38;5;241;43m=\u001b[39;49m\u001b[43mverify_integrity\u001b[49m\u001b[43m,\u001b[49m\n\u001b[1;32m    377\u001b[0m \u001b[43m        \u001b[49m\u001b[43mcopy\u001b[49m\u001b[38;5;241;43m=\u001b[39;49m\u001b[43mcopy\u001b[49m\u001b[43m,\u001b[49m\n\u001b[1;32m    378\u001b[0m \u001b[43m        \u001b[49m\u001b[43msort\u001b[49m\u001b[38;5;241;43m=\u001b[39;49m\u001b[43msort\u001b[49m\u001b[43m,\u001b[49m\n\u001b[1;32m    379\u001b[0m \u001b[43m    \u001b[49m\u001b[43m)\u001b[49m\n\u001b[1;32m    381\u001b[0m     \u001b[38;5;28;01mreturn\u001b[39;00m op\u001b[38;5;241m.\u001b[39mget_result()\n",
      "File \u001b[0;32m~/miniconda3/envs/openstef-dbc/lib/python3.9/site-packages/pandas/core/reshape/concat.py:403\u001b[0m, in \u001b[0;36m_Concatenator.__init__\u001b[0;34m(self, objs, axis, join, keys, levels, names, ignore_index, verify_integrity, copy, sort)\u001b[0m\n\u001b[1;32m    389\u001b[0m \u001b[38;5;28;01mdef\u001b[39;00m \u001b[38;5;21m__init__\u001b[39m(\n\u001b[1;32m    390\u001b[0m     \u001b[38;5;28mself\u001b[39m,\n\u001b[1;32m    391\u001b[0m     objs: Iterable[NDFrame] \u001b[38;5;241m|\u001b[39m Mapping[HashableT, NDFrame],\n\u001b[0;32m   (...)\u001b[0m\n\u001b[1;32m    400\u001b[0m     sort\u001b[38;5;241m=\u001b[39m\u001b[38;5;28;01mFalse\u001b[39;00m,\n\u001b[1;32m    401\u001b[0m ) \u001b[38;5;241m-\u001b[39m\u001b[38;5;241m>\u001b[39m \u001b[38;5;28;01mNone\u001b[39;00m:\n\u001b[1;32m    402\u001b[0m     \u001b[38;5;28;01mif\u001b[39;00m \u001b[38;5;28misinstance\u001b[39m(objs, (ABCSeries, ABCDataFrame, \u001b[38;5;28mstr\u001b[39m)):\n\u001b[0;32m--> 403\u001b[0m         \u001b[38;5;28;01mraise\u001b[39;00m \u001b[38;5;167;01mTypeError\u001b[39;00m(\n\u001b[1;32m    404\u001b[0m             \u001b[38;5;124m\"\u001b[39m\u001b[38;5;124mfirst argument must be an iterable of pandas \u001b[39m\u001b[38;5;124m\"\u001b[39m\n\u001b[1;32m    405\u001b[0m             \u001b[38;5;124mf\u001b[39m\u001b[38;5;124m'\u001b[39m\u001b[38;5;124mobjects, you passed an object of type \u001b[39m\u001b[38;5;124m\"\u001b[39m\u001b[38;5;132;01m{\u001b[39;00m\u001b[38;5;28mtype\u001b[39m(objs)\u001b[38;5;241m.\u001b[39m\u001b[38;5;18m__name__\u001b[39m\u001b[38;5;132;01m}\u001b[39;00m\u001b[38;5;124m\"\u001b[39m\u001b[38;5;124m'\u001b[39m\n\u001b[1;32m    406\u001b[0m         )\n\u001b[1;32m    408\u001b[0m     \u001b[38;5;28;01mif\u001b[39;00m join \u001b[38;5;241m==\u001b[39m \u001b[38;5;124m\"\u001b[39m\u001b[38;5;124mouter\u001b[39m\u001b[38;5;124m\"\u001b[39m:\n\u001b[1;32m    409\u001b[0m         \u001b[38;5;28mself\u001b[39m\u001b[38;5;241m.\u001b[39mintersect \u001b[38;5;241m=\u001b[39m \u001b[38;5;28;01mFalse\u001b[39;00m\n",
      "\u001b[0;31mTypeError\u001b[0m: first argument must be an iterable of pandas objects, you passed an object of type \"DataFrame\""
     ]
    }
   ],
   "source": [
    "import pandas as pd\n",
    "\n",
    "raw_dataframe = pd.concat(raw_dataframe)[[\"_value\", \"_field\", \"_time\"]]\n",
    "raw_dataframe[\"_time\"] = pd.to_datetime(raw_dataframe[\"_time\"])\n",
    "raw_dataframe.pivot_table(columns = \"_field\", values = \"_value\", index = \"_time\")"
   ]
  },
  {
   "cell_type": "code",
   "execution_count": null,
   "id": "ee179627",
   "metadata": {},
   "outputs": [],
   "source": []
  },
  {
   "cell_type": "code",
   "execution_count": null,
   "id": "2f86df1d",
   "metadata": {},
   "outputs": [],
   "source": []
  }
 ],
 "metadata": {
  "kernelspec": {
   "display_name": "Python 3 (ipykernel)",
   "language": "python",
   "name": "python3"
  },
  "language_info": {
   "codemirror_mode": {
    "name": "ipython",
    "version": 3
   },
   "file_extension": ".py",
   "mimetype": "text/x-python",
   "name": "python",
   "nbconvert_exporter": "python",
   "pygments_lexer": "ipython3",
   "version": "3.9.15"
  }
 },
 "nbformat": 4,
 "nbformat_minor": 5
}
